{
  "nbformat": 4,
  "nbformat_minor": 0,
  "metadata": {
    "colab": {
      "provenance": [],
      "authorship_tag": "ABX9TyPqS53ZTiW4Ab1+xHfTj0Wq",
      "include_colab_link": true
    },
    "kernelspec": {
      "name": "python3",
      "display_name": "Python 3"
    },
    "language_info": {
      "name": "python"
    }
  },
  "cells": [
    {
      "cell_type": "markdown",
      "metadata": {
        "id": "view-in-github",
        "colab_type": "text"
      },
      "source": [
        "<a href=\"https://colab.research.google.com/github/Dineshchowdary9999/Case1E2/blob/main/AI_exp8.ipynb\" target=\"_parent\"><img src=\"https://colab.research.google.com/assets/colab-badge.svg\" alt=\"Open In Colab\"/></a>"
      ]
    },
    {
      "cell_type": "code",
      "execution_count": 1,
      "metadata": {
        "colab": {
          "base_uri": "https://localhost:8080/"
        },
        "id": "gDNTu1drFIFf",
        "outputId": "7fbfb7a9-60e5-4873-856c-e9a32140e02e"
      },
      "outputs": [
        {
          "output_type": "stream",
          "name": "stdout",
          "text": [
            "Heyyah My name is Sam \n"
          ]
        }
      ],
      "source": [
        "punctuations = '''!()-[]{};:'\"\\,<>./?@#$%^&*_~'''\n",
        "my_str = \"Heyyah!!!, My name is Sam ;).\"\n",
        "no_punct = \"\"\n",
        "for char in my_str:\n",
        "    if char not in punctuations:\n",
        "         no_punct = no_punct + char\n",
        "\n",
        "print(no_punct)\n"
      ]
    },
    {
      "cell_type": "code",
      "source": [
        "my_str = \"Hello My name is Sam\"\n",
        "words = [word.lower() for word in my_str.split()]\n",
        "words.sort()\n",
        "print(\"The sorted words are:\")\n",
        "for word in words:\n",
        "   print(word)\n"
      ],
      "metadata": {
        "colab": {
          "base_uri": "https://localhost:8080/"
        },
        "id": "7wFUY_uPFWUG",
        "outputId": "4bf43084-7f35-4ece-b6ee-03a7b40d271a"
      },
      "execution_count": 2,
      "outputs": [
        {
          "output_type": "stream",
          "name": "stdout",
          "text": [
            "The sorted words are:\n",
            "hello\n",
            "is\n",
            "my\n",
            "name\n",
            "sam\n"
          ]
        }
      ]
    }
  ]
}