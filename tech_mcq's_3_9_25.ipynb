{
  "nbformat": 4,
  "nbformat_minor": 0,
  "metadata": {
    "colab": {
      "provenance": [],
      "authorship_tag": "ABX9TyNP2gdL50Lc+uDlVu7T86/i",
      "include_colab_link": true
    },
    "kernelspec": {
      "name": "python3",
      "display_name": "Python 3"
    },
    "language_info": {
      "name": "python"
    }
  },
  "cells": [
    {
      "cell_type": "markdown",
      "metadata": {
        "id": "view-in-github",
        "colab_type": "text"
      },
      "source": [
        "<a href=\"https://colab.research.google.com/github/Dineshchowdary9999/Case1E2/blob/main/tech_mcq's_3_9_25.ipynb\" target=\"_parent\"><img src=\"https://colab.research.google.com/assets/colab-badge.svg\" alt=\"Open In Colab\"/></a>"
      ]
    },
    {
      "cell_type": "code",
      "execution_count": null,
      "metadata": {
        "colab": {
          "base_uri": "https://localhost:8080/"
        },
        "id": "-V941bYuGrk2",
        "outputId": "db2bc129-dc2f-4c53-9724-dc6c96bbbc61"
      },
      "outputs": [
        {
          "output_type": "stream",
          "name": "stdout",
          "text": [
            "Greater\n"
          ]
        }
      ],
      "source": [
        "x=10\n",
        "if x>5:\n",
        "  print(\"Greater\")\n",
        "else:\n",
        "  print(\"Smaller\")"
      ]
    },
    {
      "cell_type": "code",
      "source": [
        "x=3\n",
        "if x>5:\n",
        "  print(\"a\")\n",
        "elif x==3:\n",
        "  print(\"b\")\n",
        "else:\n",
        "  print(\"c\")"
      ],
      "metadata": {
        "colab": {
          "base_uri": "https://localhost:8080/"
        },
        "id": "LaM4T7WlHLwo",
        "outputId": "05199610-e04a-4181-c073-88d2804600d0"
      },
      "execution_count": null,
      "outputs": [
        {
          "output_type": "stream",
          "name": "stdout",
          "text": [
            "b\n"
          ]
        }
      ]
    },
    {
      "cell_type": "code",
      "source": [
        "for i in range(3):\n",
        "  print(i,end='')"
      ],
      "metadata": {
        "colab": {
          "base_uri": "https://localhost:8080/"
        },
        "id": "kbaQktxtHcEA",
        "outputId": "4dbbd136-4762-4f01-cf6c-ca5529eb6c8e"
      },
      "execution_count": null,
      "outputs": [
        {
          "output_type": "stream",
          "name": "stdout",
          "text": [
            "012"
          ]
        }
      ]
    },
    {
      "cell_type": "code",
      "source": [
        "i=0\n",
        "while i<3:\n",
        "  print(i)\n",
        "  i+=1\n"
      ],
      "metadata": {
        "colab": {
          "base_uri": "https://localhost:8080/"
        },
        "id": "PO68Ens8I-JQ",
        "outputId": "8ed291bf-e333-43c2-e429-d9c5ced10fa9"
      },
      "execution_count": null,
      "outputs": [
        {
          "output_type": "stream",
          "name": "stdout",
          "text": [
            "0\n",
            "1\n",
            "2\n"
          ]
        }
      ]
    },
    {
      "cell_type": "code",
      "source": [
        "for i in range(5):\n",
        "  if i==3:\n",
        "    break\n",
        "  print(i)"
      ],
      "metadata": {
        "colab": {
          "base_uri": "https://localhost:8080/"
        },
        "id": "RlGh1S1NJMvH",
        "outputId": "310e8d83-c1a2-4029-f138-5f96b696731f"
      },
      "execution_count": null,
      "outputs": [
        {
          "output_type": "stream",
          "name": "stdout",
          "text": [
            "0\n",
            "1\n",
            "2\n"
          ]
        }
      ]
    },
    {
      "cell_type": "code",
      "source": [
        "def switch(x):\n",
        "  return{\n",
        "      1:\"one\",\n",
        "      2:\"two\",\n",
        "  }.get(x,\"Default\")\n",
        "print(switch(2))"
      ],
      "metadata": {
        "colab": {
          "base_uri": "https://localhost:8080/"
        },
        "id": "YKZJIqaAKjD4",
        "outputId": "0cbed4e7-ad8c-4cc5-cd79-af9c3b024ed6"
      },
      "execution_count": null,
      "outputs": [
        {
          "output_type": "stream",
          "name": "stdout",
          "text": [
            "two\n"
          ]
        }
      ]
    },
    {
      "cell_type": "code",
      "source": [
        "for i in range(5):\n",
        "  if i==2:\n",
        "    continue\n",
        "  print(i,end='')"
      ],
      "metadata": {
        "colab": {
          "base_uri": "https://localhost:8080/"
        },
        "id": "V29rLEkwNlkJ",
        "outputId": "1cfc623d-5eec-4b95-fa10-f58a1205dcca"
      },
      "execution_count": null,
      "outputs": [
        {
          "output_type": "stream",
          "name": "stdout",
          "text": [
            "0134"
          ]
        }
      ]
    },
    {
      "cell_type": "code",
      "source": [
        "i=0\n",
        "while i<5:\n",
        "  i+=1\n",
        "  if i==3:\n",
        "    continue\n",
        "  print(i,end='')"
      ],
      "metadata": {
        "colab": {
          "base_uri": "https://localhost:8080/"
        },
        "id": "iQ4_9XA5QOWB",
        "outputId": "d360073d-1d58-4d11-8046-de0a98ca73d4"
      },
      "execution_count": null,
      "outputs": [
        {
          "output_type": "stream",
          "name": "stdout",
          "text": [
            "1245"
          ]
        }
      ]
    },
    {
      "cell_type": "code",
      "source": [],
      "metadata": {
        "id": "JG9d1P6pSFdS"
      },
      "execution_count": null,
      "outputs": []
    }
  ]
}