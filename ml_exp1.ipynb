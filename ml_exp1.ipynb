{
  "nbformat": 4,
  "nbformat_minor": 0,
  "metadata": {
    "colab": {
      "provenance": [],
      "authorship_tag": "ABX9TyNWFAx/mUmcrXTjhLB/BRwM",
      "include_colab_link": true
    },
    "kernelspec": {
      "name": "python3",
      "display_name": "Python 3"
    },
    "language_info": {
      "name": "python"
    }
  },
  "cells": [
    {
      "cell_type": "markdown",
      "metadata": {
        "id": "view-in-github",
        "colab_type": "text"
      },
      "source": [
        "<a href=\"https://colab.research.google.com/github/Dineshchowdary9999/Case1E2/blob/main/ml_exp1.ipynb\" target=\"_parent\"><img src=\"https://colab.research.google.com/assets/colab-badge.svg\" alt=\"Open In Colab\"/></a>"
      ]
    },
    {
      "cell_type": "code",
      "execution_count": 7,
      "metadata": {
        "colab": {
          "base_uri": "https://localhost:8080/"
        },
        "id": "CZipCicrYbcl",
        "outputId": "083e79b5-080d-49c7-c0bf-4149aab7b7f8"
      },
      "outputs": [
        {
          "output_type": "stream",
          "name": "stdout",
          "text": [
            "Mean: 4.0\n",
            "Mode:  4\n",
            "Variance: 1.2\n",
            "StandardDeviation 1.1\n"
          ]
        }
      ],
      "source": [
        "import math\n",
        "import collections\n",
        "data=[2,4,3,6,4,5]\n",
        "n=len(data)\n",
        "sum= 0\n",
        "for i in data: sum += i\n",
        "mean = sum / n\n",
        "print('Mean:',mean)\n",
        "data_sort=sorted(data)\n",
        "if n%2 == 0:\n",
        "    median=(data_sort[(n//2)-1]+data_sort[n//2])/2\n",
        "else:\n",
        "    median=data_sort[(n//2)]\n",
        "    print('Median: ',median)\n",
        "mode=collections.Counter(data).most_common(1)[0][0]\n",
        "print('Mode: ', mode)\n",
        "sum_var = 0\n",
        "for I in data:\n",
        "    sum_var+=math.pow(i-mean,2)\n",
        "var = sum_var / (n-1)\n",
        "print('Variance:', round(var,2))\n",
        "std = round(math.sqrt(var),2)\n",
        "print('StandardDeviation',std)"
      ]
    }
  ]
}