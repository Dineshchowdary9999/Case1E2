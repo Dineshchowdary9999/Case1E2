{
  "nbformat": 4,
  "nbformat_minor": 0,
  "metadata": {
    "colab": {
      "provenance": [],
      "authorship_tag": "ABX9TyNgi4ZNbi3C6OVMTYROgZ16",
      "include_colab_link": true
    },
    "kernelspec": {
      "name": "python3",
      "display_name": "Python 3"
    },
    "language_info": {
      "name": "python"
    }
  },
  "cells": [
    {
      "cell_type": "markdown",
      "metadata": {
        "id": "view-in-github",
        "colab_type": "text"
      },
      "source": [
        "<a href=\"https://colab.research.google.com/github/Dineshchowdary9999/Case1E2/blob/main/prime18_8_25.ipynb\" target=\"_parent\"><img src=\"https://colab.research.google.com/assets/colab-badge.svg\" alt=\"Open In Colab\"/></a>"
      ]
    },
    {
      "cell_type": "code",
      "execution_count": 2,
      "metadata": {
        "colab": {
          "base_uri": "https://localhost:8080/"
        },
        "id": "iwqPJZ7XJJL_",
        "outputId": "17fd9de6-36e8-444d-fc61-ca6bdb3d67fc"
      },
      "outputs": [
        {
          "output_type": "stream",
          "name": "stdout",
          "text": [
            "-1 1\n"
          ]
        }
      ],
      "source": [
        "l1=[2,5,6,8,8,9]\n",
        "t=8\n",
        "f=-1\n",
        "l=-1\n",
        "for i in range(len(l1)):\n",
        "  if l1[i]==t:\n",
        "      if f==-1:\n",
        "           f=-1\n",
        "print(f,1)"
      ]
    },
    {
      "cell_type": "code",
      "source": [
        "nums1=[1,2,3,0,0,0]\n",
        "m=3\n",
        "nums2=[2,5,6]\n",
        "n=3\n",
        "j=0\n",
        "for i in range(m,m+n):\n",
        "    nums1[i]=nums2[j]\n",
        "    j+=1\n",
        "print(nums1)"
      ],
      "metadata": {
        "colab": {
          "base_uri": "https://localhost:8080/"
        },
        "id": "ps4OS8vkJu5B",
        "outputId": "0f0bc47b-5fee-43b6-9d9a-350f2341d020"
      },
      "execution_count": 5,
      "outputs": [
        {
          "output_type": "stream",
          "name": "stdout",
          "text": [
            "[1, 2, 3, 2, 5, 6]\n"
          ]
        }
      ]
    },
    {
      "cell_type": "code",
      "source": [
        "nums1=[1,2,3,0,0,0]\n",
        "m=3\n",
        "nums2=[2,5,6,7,9]\n",
        "n=2\n",
        "j=len(nums2)-1\n",
        "for i in range(m,m+n):\n",
        "    nums1[i]=nums2[j]\n",
        "    j-=1\n",
        "print(nums1[:m+n])"
      ],
      "metadata": {
        "colab": {
          "base_uri": "https://localhost:8080/"
        },
        "id": "ZYmTBFp0LrZg",
        "outputId": "741b2862-497d-4762-a054-09fb543417fb"
      },
      "execution_count": 7,
      "outputs": [
        {
          "output_type": "stream",
          "name": "stdout",
          "text": [
            "[1, 2, 3, 9, 7]\n"
          ]
        }
      ]
    },
    {
      "cell_type": "code",
      "source": [
        "n=5\n",
        "f=1\n",
        "s=2\n",
        "for i in range(3,n+1):\n",
        "  t=f+s\n",
        "  s=t\n",
        "print(s)"
      ],
      "metadata": {
        "colab": {
          "base_uri": "https://localhost:8080/"
        },
        "id": "1bD8C53fMT9v",
        "outputId": "46d8cc8a-8e41-4ceb-9e05-49a044c2d7a7"
      },
      "execution_count": 8,
      "outputs": [
        {
          "output_type": "stream",
          "name": "stdout",
          "text": [
            "5\n"
          ]
        }
      ]
    },
    {
      "cell_type": "code",
      "source": [
        "li=[1,1,2,3,3,5,6]\n",
        "j=0\n",
        "for i in range(l,len(li)):\n",
        "  if li[i]!=li[i-1]:\n",
        "    li[j]=li[i]\n",
        "    j+=1\n",
        "print(li[:j])"
      ],
      "metadata": {
        "colab": {
          "base_uri": "https://localhost:8080/"
        },
        "id": "neWAfhHPOI-m",
        "outputId": "977f9d92-cfef-4be0-e8cf-640cc7678109"
      },
      "execution_count": 9,
      "outputs": [
        {
          "output_type": "stream",
          "name": "stdout",
          "text": [
            "[6, 1, 2, 3, 5, 6]\n"
          ]
        }
      ]
    },
    {
      "cell_type": "code",
      "source": [
        "li=[1,3,0]\n",
        "n=len(li)\n",
        "t=[0]*(n+1)\n",
        "for i in li:\n",
        "  if 0<=i<=n:\n",
        "    t[i]=1\n",
        "for i in range(1,len(t)):\n",
        "  if not t[i]:\n",
        "    print(i)\n",
        "    break\n",
        "print(n+1)"
      ],
      "metadata": {
        "colab": {
          "base_uri": "https://localhost:8080/"
        },
        "id": "QZfNZa8nRgH0",
        "outputId": "e9449998-d25a-4161-b195-3a62b67eb0d0"
      },
      "execution_count": 10,
      "outputs": [
        {
          "output_type": "stream",
          "name": "stdout",
          "text": [
            "2\n",
            "4\n"
          ]
        }
      ]
    },
    {
      "cell_type": "code",
      "source": [
        "li=[1,2,0,4,0,7]\n",
        "j=0\n",
        "for i in range(len(li)):\n",
        "  if li[i]!=0:\n",
        "    li[j]=li[i]\n",
        "    j+=1\n",
        "print(li)\n",
        "while j<len(li):\n",
        "  li[j]=0\n",
        "  j+=1\n",
        "print(li)"
      ],
      "metadata": {
        "colab": {
          "base_uri": "https://localhost:8080/"
        },
        "id": "IipybAd-YkCf",
        "outputId": "288bf2b5-1029-4fa6-ad27-e10560460c03"
      },
      "execution_count": 14,
      "outputs": [
        {
          "output_type": "stream",
          "name": "stdout",
          "text": [
            "[1, 2, 4, 7, 0, 7]\n",
            "[1, 2, 4, 7, 0, 0]\n"
          ]
        }
      ]
    },
    {
      "cell_type": "code",
      "source": [
        "li=[1,2,3,4,5]\n",
        "j=0\n",
        "s=0\n",
        "for i in li:\n",
        "  s+=i\n",
        "  t.append(s)\n",
        "print(t)"
      ],
      "metadata": {
        "colab": {
          "base_uri": "https://localhost:8080/"
        },
        "id": "lw6BtUdzdbXL",
        "outputId": "d78d1af3-c041-4f12-af5b-da55a742d990"
      },
      "execution_count": 15,
      "outputs": [
        {
          "output_type": "stream",
          "name": "stdout",
          "text": [
            "[1, 1, 0, 1, 1, 3, 6, 10, 15]\n"
          ]
        }
      ]
    }
  ]
}