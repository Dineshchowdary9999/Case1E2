{
  "nbformat": 4,
  "nbformat_minor": 0,
  "metadata": {
    "colab": {
      "provenance": [],
      "authorship_tag": "ABX9TyOelTdlcCnNWLIt6fNchfDA",
      "include_colab_link": true
    },
    "kernelspec": {
      "name": "python3",
      "display_name": "Python 3"
    },
    "language_info": {
      "name": "python"
    }
  },
  "cells": [
    {
      "cell_type": "markdown",
      "metadata": {
        "id": "view-in-github",
        "colab_type": "text"
      },
      "source": [
        "<a href=\"https://colab.research.google.com/github/Dineshchowdary9999/Case1E2/blob/main/crt_8_1_24.ipynb\" target=\"_parent\"><img src=\"https://colab.research.google.com/assets/colab-badge.svg\" alt=\"Open In Colab\"/></a>"
      ]
    },
    {
      "cell_type": "code",
      "execution_count": 7,
      "metadata": {
        "colab": {
          "base_uri": "https://localhost:8080/"
        },
        "id": "wSM4jDMuiDG4",
        "outputId": "101652ce-370e-4afa-9986-9d2b5960d7a5"
      },
      "outputs": [
        {
          "output_type": "stream",
          "name": "stdout",
          "text": [
            "[25, 67, 89, 76, 89, 67, 85]\n"
          ]
        }
      ],
      "source": [
        "l1=[25,67,89,76,89,67,85]\n",
        "l2=[\"ece\",\"ce\",\"cse\",89,\"csbs\",\"ce\",89,89]\n",
        "counting_l1=l2.index(89,4,7)\n",
        "print(l1)"
      ]
    },
    {
      "cell_type": "code",
      "source": [
        "l2.remove(89)\n",
        "print(l2)"
      ],
      "metadata": {
        "colab": {
          "base_uri": "https://localhost:8080/"
        },
        "id": "rlo16zWSlGPN",
        "outputId": "7d18ccb7-4cf1-4d2f-ad61-85fc6137a36f"
      },
      "execution_count": 8,
      "outputs": [
        {
          "output_type": "stream",
          "name": "stdout",
          "text": [
            "['ece', 'ce', 'cse', 'csbs', 'ce', 89, 89]\n"
          ]
        }
      ]
    },
    {
      "cell_type": "code",
      "source": [
        "print(l2.pop(6))\n",
        "print(l2)"
      ],
      "metadata": {
        "colab": {
          "base_uri": "https://localhost:8080/"
        },
        "id": "xeeBfufAlRck",
        "outputId": "5de12f36-b3a7-40d5-eb47-caf6e7306946"
      },
      "execution_count": 9,
      "outputs": [
        {
          "output_type": "stream",
          "name": "stdout",
          "text": [
            "89\n",
            "['ece', 'ce', 'cse', 'csbs', 'ce', 89]\n"
          ]
        }
      ]
    },
    {
      "cell_type": "code",
      "source": [
        "l2.reverse()\n",
        "print(l2)"
      ],
      "metadata": {
        "colab": {
          "base_uri": "https://localhost:8080/"
        },
        "id": "S5gU113Bq2un",
        "outputId": "b606ea46-a245-45aa-fc1a-9a9a914ee9e5"
      },
      "execution_count": 10,
      "outputs": [
        {
          "output_type": "stream",
          "name": "stdout",
          "text": [
            "[89, 'ce', 'csbs', 'cse', 'ce', 'ece']\n"
          ]
        }
      ]
    },
    {
      "cell_type": "code",
      "source": [
        "l1.sort()\n",
        "print(l1)"
      ],
      "metadata": {
        "colab": {
          "base_uri": "https://localhost:8080/"
        },
        "id": "4OZKRQkVrCn3",
        "outputId": "78eb1d5d-7820-4ce8-c17b-3ccb5a795584"
      },
      "execution_count": 17,
      "outputs": [
        {
          "output_type": "stream",
          "name": "stdout",
          "text": [
            "[25, 67, 67, 76, 85, 89, 89]\n"
          ]
        }
      ]
    },
    {
      "cell_type": "code",
      "source": [
        "l1.clear()\n",
        "print(l1)"
      ],
      "metadata": {
        "colab": {
          "base_uri": "https://localhost:8080/"
        },
        "id": "A6Rk_mlqsJln",
        "outputId": "c5993cbe-c8fd-4971-bd2d-37550a82cb3c"
      },
      "execution_count": 18,
      "outputs": [
        {
          "output_type": "stream",
          "name": "stdout",
          "text": [
            "[]\n"
          ]
        }
      ]
    },
    {
      "cell_type": "code",
      "source": [
        "l1.append(\"cse\")\n",
        "print(l1)"
      ],
      "metadata": {
        "colab": {
          "base_uri": "https://localhost:8080/"
        },
        "id": "5A9sPUqnsVkd",
        "outputId": "418e0872-d60a-46ae-90cb-d08943af10d0"
      },
      "execution_count": 19,
      "outputs": [
        {
          "output_type": "stream",
          "name": "stdout",
          "text": [
            "['cse']\n"
          ]
        }
      ]
    },
    {
      "cell_type": "code",
      "source": [
        "l1.insert(3,\"cse\")\n",
        "print(l1)"
      ],
      "metadata": {
        "colab": {
          "base_uri": "https://localhost:8080/"
        },
        "id": "xjSRn1Hqsgst",
        "outputId": "243db776-af69-4d18-82b0-974ec95a7d7a"
      },
      "execution_count": 20,
      "outputs": [
        {
          "output_type": "stream",
          "name": "stdout",
          "text": [
            "['cse', 'cse']\n"
          ]
        }
      ]
    },
    {
      "cell_type": "code",
      "source": [
        "l1.extend(l2)\n",
        "print(l1)"
      ],
      "metadata": {
        "colab": {
          "base_uri": "https://localhost:8080/"
        },
        "id": "72JKLSF3stq_",
        "outputId": "236958bf-45fe-49ff-ac32-6233159d697b"
      },
      "execution_count": 21,
      "outputs": [
        {
          "output_type": "stream",
          "name": "stdout",
          "text": [
            "['cse', 'cse', 89, 'ce', 'csbs', 'cse', 'ce', 'ece']\n"
          ]
        }
      ]
    },
    {
      "cell_type": "code",
      "source": [
        "l1=[26,15,3,22,26]\n",
        "l2=[45,93,33,26]\n",
        "counting_l1=l2.index(26)\n",
        "print(counting_l1)"
      ],
      "metadata": {
        "colab": {
          "base_uri": "https://localhost:8080/"
        },
        "id": "biqfQ4tPs7U9",
        "outputId": "9d2363c6-b497-40f7-e747-0e84f6d1ca6f"
      },
      "execution_count": 26,
      "outputs": [
        {
          "output_type": "stream",
          "name": "stdout",
          "text": [
            "3\n"
          ]
        }
      ]
    },
    {
      "cell_type": "code",
      "source": [
        "g_list=input(\"enter list for dinner:\").split(\",\")\n",
        "for i in g_list:\n",
        "  print(i,\"is\",g_list.count(i))"
      ],
      "metadata": {
        "colab": {
          "base_uri": "https://localhost:8080/"
        },
        "id": "gxixJxVhtyz2",
        "outputId": "69ba80d6-dc5f-4dff-9ea1-2cebb3525e12"
      },
      "execution_count": 31,
      "outputs": [
        {
          "output_type": "stream",
          "name": "stdout",
          "text": [
            "enter list for dinner:chickenbiryani,muttonbiryani,prancebiryani\n",
            "chickenbiryani is 1\n",
            "muttonbiryani is 1\n",
            "prancebiryani is 1\n"
          ]
        }
      ]
    }
  ]
}