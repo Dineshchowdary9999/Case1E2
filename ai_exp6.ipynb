{
  "nbformat": 4,
  "nbformat_minor": 0,
  "metadata": {
    "colab": {
      "provenance": [],
      "authorship_tag": "ABX9TyOBJlvMZfHxLK3TXoJASF0J",
      "include_colab_link": true
    },
    "kernelspec": {
      "name": "python3",
      "display_name": "Python 3"
    },
    "language_info": {
      "name": "python"
    }
  },
  "cells": [
    {
      "cell_type": "markdown",
      "metadata": {
        "id": "view-in-github",
        "colab_type": "text"
      },
      "source": [
        "<a href=\"https://colab.research.google.com/github/Dineshchowdary9999/Case1E2/blob/main/ai_exp6.ipynb\" target=\"_parent\"><img src=\"https://colab.research.google.com/assets/colab-badge.svg\" alt=\"Open In Colab\"/></a>"
      ]
    },
    {
      "cell_type": "code",
      "execution_count": 10,
      "metadata": {
        "id": "yTt-h5Litj0I"
      },
      "outputs": [],
      "source": [
        "graph={\n",
        "'5':['3','7'],\n",
        "'3':['2','4'],\n",
        "'7':['8'],\n",
        "'2':[],\n",
        "'4':['8'],\n",
        "'8':[]\n",
        "}\n",
        "visited=[]\n",
        "queue=[]\n",
        "def bfs(visited,graph,node):\n",
        "    visited.append(node)\n",
        "    queue.append(node)\n",
        "while queue:\n",
        "       m= queue.pop(0)\n",
        "       print(m,end=\"\")\n",
        "       for neighbour in graph[m]:\n",
        "           if neighbour not in visited :\n",
        "              visited.append(neighbour)\n",
        "              queue.append(neighbour)\n",
        "              print(\"Following is the breadth First Search\")\n",
        "              bfs(visited,graph,'5')"
      ]
    }
  ]
}