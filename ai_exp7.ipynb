{
  "nbformat": 4,
  "nbformat_minor": 0,
  "metadata": {
    "colab": {
      "provenance": [],
      "authorship_tag": "ABX9TyNswc9ni66SpiQiQ5zzCHM2",
      "include_colab_link": true
    },
    "kernelspec": {
      "name": "python3",
      "display_name": "Python 3"
    },
    "language_info": {
      "name": "python"
    }
  },
  "cells": [
    {
      "cell_type": "markdown",
      "metadata": {
        "id": "view-in-github",
        "colab_type": "text"
      },
      "source": [
        "<a href=\"https://colab.research.google.com/github/Dineshchowdary9999/Case1E2/blob/main/ai_exp7.ipynb\" target=\"_parent\"><img src=\"https://colab.research.google.com/assets/colab-badge.svg\" alt=\"Open In Colab\"/></a>"
      ]
    },
    {
      "cell_type": "code",
      "source": [
        "print(\"Water Jug Problem\")\n",
        "x=int(input(\"Enter X:\\n\"))\n",
        "y=int(input(\"Enter Y:\\n\"))\n",
        "while True:\n",
        "    rno=int(input(\"Enter the Rule No\\n\"))\n",
        "    if rno==1:\n",
        "        if x<4:\n",
        "            x=4\n",
        "    if rno==2:\n",
        "        if y<3:\n",
        "            y=3\n",
        "    if rno==5:\n",
        "        if x>0:\n",
        "            x=0\n",
        "    if rno==6:\n",
        "        if y>0:\n",
        "            y=0\n",
        "    if rno==7:\n",
        "        if x+y>= 4 and y>0:\n",
        "            x,y=4,y-(4-x)\n",
        "    if rno==8:\n",
        "        if x+y>=3 and x>0:\n",
        "            x,y=x-(3-y),3\n",
        "    if rno==9:\n",
        "        if x+y<=4 and y>0:\n",
        "            x,y=x+y,0\n",
        "    if rno==10:\n",
        "        if x+y<=3 and x>0:\n",
        "            x,y=0,x+y\n",
        "    print(\"X =\",x)\n",
        "    print(\"Y =\",y)\n",
        "    if (x==2):\n",
        "        print(\" The result is a Goal state\")\n",
        "        break"
      ],
      "metadata": {
        "colab": {
          "base_uri": "https://localhost:8080/"
        },
        "id": "yxu1ibwMsO2J",
        "outputId": "a02eb2ef-55d9-4398-9f99-23b6e39b9245"
      },
      "execution_count": null,
      "outputs": [
        {
          "output_type": "stream",
          "name": "stdout",
          "text": [
            "Water Jug Problem\n",
            "Enter X:\n",
            "0\n",
            "Enter Y:\n",
            "0\n",
            "Enter the Rule No\n",
            "2\n",
            "X = 0\n",
            "Y = 3\n",
            "Enter the Rule No\n",
            "9\n",
            "X = 3\n",
            "Y = 0\n",
            "Enter the Rule No\n",
            "2\n",
            "X = 3\n",
            "Y = 3\n",
            "Enter the Rule No\n",
            "7\n",
            "X = 4\n",
            "Y = 2\n",
            "Enter the Rule No\n",
            "5\n",
            "X = 0\n",
            "Y = 2\n",
            "Enter the Rule No\n",
            "9\n",
            "X = 2\n",
            "Y = 0\n",
            " The result is a Goal state\n"
          ]
        }
      ]
    }
  ]
}