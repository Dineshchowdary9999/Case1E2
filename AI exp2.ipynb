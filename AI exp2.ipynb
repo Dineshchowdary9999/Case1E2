{
  "nbformat": 4,
  "nbformat_minor": 0,
  "metadata": {
    "colab": {
      "provenance": [],
      "authorship_tag": "ABX9TyN8wWrt8TfrfcwdttupeCZp",
      "include_colab_link": true
    },
    "kernelspec": {
      "name": "python3",
      "display_name": "Python 3"
    },
    "language_info": {
      "name": "python"
    }
  },
  "cells": [
    {
      "cell_type": "markdown",
      "metadata": {
        "id": "view-in-github",
        "colab_type": "text"
      },
      "source": [
        "<a href=\"https://colab.research.google.com/github/Dineshchowdary9999/Case1E2/blob/main/AI%20exp2.ipynb\" target=\"_parent\"><img src=\"https://colab.research.google.com/assets/colab-badge.svg\" alt=\"Open In Colab\"/></a>"
      ]
    },
    {
      "cell_type": "code",
      "execution_count": null,
      "metadata": {
        "colab": {
          "base_uri": "https://localhost:8080/"
        },
        "id": "AqasxtgqfhLb",
        "outputId": "4f43348a-02ba-4025-8d2b-e12139850f43"
      },
      "outputs": [
        {
          "output_type": "stream",
          "name": "stdout",
          "text": [
            ">hi\n",
            "hi\n"
          ]
        }
      ],
      "source": [
        "from nltk.chat.util import Chat,reflections\n",
        "pairs=[\n",
        "    [r'hi',['hi']],\n",
        "    [r'how are you',['i am good']],\n",
        "    [r'where are you',['i am in ongole']]\n",
        "    ]\n",
        "chat=Chat(pairs,reflections)\n",
        "chat.converse()\n"
      ]
    }
  ]
}