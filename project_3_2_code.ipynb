{
  "nbformat": 4,
  "nbformat_minor": 0,
  "metadata": {
    "colab": {
      "provenance": [],
      "authorship_tag": "ABX9TyMpg2ZYksRpQf5Od60/9m96",
      "include_colab_link": true
    },
    "kernelspec": {
      "name": "python3",
      "display_name": "Python 3"
    },
    "language_info": {
      "name": "python"
    }
  },
  "cells": [
    {
      "cell_type": "markdown",
      "metadata": {
        "id": "view-in-github",
        "colab_type": "text"
      },
      "source": [
        "<a href=\"https://colab.research.google.com/github/Dineshchowdary9999/Case1E2/blob/main/project_3_2_code.ipynb\" target=\"_parent\"><img src=\"https://colab.research.google.com/assets/colab-badge.svg\" alt=\"Open In Colab\"/></a>"
      ]
    },
    {
      "cell_type": "code",
      "execution_count": 6,
      "metadata": {
        "colab": {
          "base_uri": "https://localhost:8080/"
        },
        "id": "kAD6lr5H020-",
        "outputId": "ba6f82c6-87bd-4a2a-c668-6c6258d1b921"
      },
      "outputs": [
        {
          "output_type": "stream",
          "name": "stdout",
          "text": [
            "Biogas Production Simulation Started...\n",
            "Total Organic Waste Input: 1 kg\n",
            "Total Biogas Output: 0.57 m³\n",
            "Methane Output: 0.37 m³\n",
            "CO2 Output: 0.20 m³\n",
            "\n",
            "Biogas Production Simulation Completed!\n"
          ]
        }
      ],
      "source": [
        "import random\n",
        "import time\n",
        "class BiogasReactor:\n",
        "    def __init__(self, waste_amount):\n",
        "        self.waste_amount = waste_amount\n",
        "        self.biogas_output = 0\n",
        "        self.methane_output = 0\n",
        "        self.co2_output = 0\n",
        "        self.anaerobic_bacteria = 0.05\n",
        "\n",
        "    def simulate_anaerobic_digestion(self):\n",
        "        time.sleep(1)\n",
        "        methane_percentage = 0.65\n",
        "        co2_percentage = 0.35\n",
        "        biogas_produced = self.waste_amount * random.uniform(0.4, 0.6)\n",
        "        self.methane_output = biogas_produced * methane_percentage\n",
        "        self.co2_output = biogas_produced * co2_percentage\n",
        "        self.biogas_output = biogas_produced\n",
        "        return self.biogas_output, self.methane_output, self.co2_output\n",
        "\n",
        "    def display_output(self):\n",
        "        print(f\"Total Organic Waste Input: {self.waste_amount} kg\")\n",
        "        print(f\"Total Biogas Output: {self.biogas_output:.2f} m³\")\n",
        "        print(f\"Methane Output: {self.methane_output:.2f} m³\")\n",
        "        print(f\"CO2 Output: {self.co2_output:.2f} m³\")\n",
        "\n",
        "\n",
        "if __name__ == \"__main__\":\n",
        "    print(\"Biogas Production Simulation Started...\")\n",
        "    waste_amount = 1  # in kg\n",
        "    reactor = BiogasReactor(waste_amount)\n",
        "    biogas, methane, co2 = reactor.simulate_anaerobic_digestion()\n",
        "    reactor.display_output()\n",
        "    print(\"\\nBiogas Production Simulation Completed!\")"
      ]
    }
  ]
}