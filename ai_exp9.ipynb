{
  "nbformat": 4,
  "nbformat_minor": 0,
  "metadata": {
    "colab": {
      "provenance": [],
      "authorship_tag": "ABX9TyO+R00UUnE/DNDlyi90woPi",
      "include_colab_link": true
    },
    "kernelspec": {
      "name": "python3",
      "display_name": "Python 3"
    },
    "language_info": {
      "name": "python"
    }
  },
  "cells": [
    {
      "cell_type": "markdown",
      "metadata": {
        "id": "view-in-github",
        "colab_type": "text"
      },
      "source": [
        "<a href=\"https://colab.research.google.com/github/Dineshchowdary9999/Case1E2/blob/main/ai_exp9.ipynb\" target=\"_parent\"><img src=\"https://colab.research.google.com/assets/colab-badge.svg\" alt=\"Open In Colab\"/></a>"
      ]
    },
    {
      "cell_type": "code",
      "execution_count": 2,
      "metadata": {
        "colab": {
          "base_uri": "https://localhost:8080/"
        },
        "id": "ZcixlRVvF1hO",
        "outputId": "60170794-a97f-406f-9fb9-17ab0cc2ff2a"
      },
      "outputs": [
        {
          "output_type": "stream",
          "name": "stdout",
          "text": [
            "What is your name? kishore\n",
            "Hello, kishore Time to play hangman!\n",
            "Start guessing...\n",
            "______guess a character:s\n",
            "s_____guess a character:r\n",
            "s__r__guess a character:t\n",
            "s__r_tguess a character:e\n",
            "se_retguess a character:c\n",
            "secretYou won\n"
          ]
        }
      ],
      "source": [
        "import time\n",
        "name = input(\"What is your name? \")\n",
        "print (\"Hello, \" + name, \"Time to play hangman!\")\n",
        "time.sleep(1)\n",
        "print (\"Start guessing...\")\n",
        "time.sleep(0.5)\n",
        "word = (\"secret\")\n",
        "guesses = ''\n",
        "turns = 10\n",
        "while turns > 0:\n",
        "    failed = 0\n",
        "    for char in word:\n",
        "        if char in guesses:\n",
        "            print (char,end=\"\"),\n",
        "        else:\n",
        "            print (\"_\",end=\"\"),\n",
        "            failed += 1\n",
        "    if failed == 0:\n",
        "        print (\"You won\")\n",
        "        break\n",
        "    guess = input(\"guess a character:\")\n",
        "    guesses += guess\n",
        "    if guess not in word:\n",
        "        turns -= 1\n",
        "        print (\"Wrong\")\n",
        "        print (\"You have\", + turns, 'more guesses' )\n",
        "        if turns == 0:\n",
        "            print (\"You Lose\"  )\n"
      ]
    }
  ]
}