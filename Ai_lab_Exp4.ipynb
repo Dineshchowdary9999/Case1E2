{
  "nbformat": 4,
  "nbformat_minor": 0,
  "metadata": {
    "colab": {
      "provenance": [],
      "authorship_tag": "ABX9TyMaWQDWLzuP+m+bACBdkD1O",
      "include_colab_link": true
    },
    "kernelspec": {
      "name": "python3",
      "display_name": "Python 3"
    },
    "language_info": {
      "name": "python"
    }
  },
  "cells": [
    {
      "cell_type": "markdown",
      "metadata": {
        "id": "view-in-github",
        "colab_type": "text"
      },
      "source": [
        "<a href=\"https://colab.research.google.com/github/Dineshchowdary9999/Case1E2/blob/main/Ai_lab_Exp4.ipynb\" target=\"_parent\"><img src=\"https://colab.research.google.com/assets/colab-badge.svg\" alt=\"Open In Colab\"/></a>"
      ]
    },
    {
      "cell_type": "code",
      "execution_count": 13,
      "metadata": {
        "id": "0IwrNOBGesNW",
        "colab": {
          "base_uri": "https://localhost:8080/"
        },
        "outputId": "32e46dfe-62d0-4869-f366-ba0716b4abc9"
      },
      "outputs": [
        {
          "output_type": "stream",
          "name": "stdout",
          "text": [
            "Set A: {1, 2, 3, 4, 5}\n",
            "Set B: {4, 5, 6, 7, 8}\n",
            "Union of A and B: {1, 2, 3, 4, 5, 6, 7, 8}\n",
            "Intersection of A and B: {4, 5}\n",
            "Difference of A and B (A - B): {1, 2, 3}\n",
            "Symmetric Difference of A and B: {1, 2, 3, 6, 7, 8}\n",
            "Set A after adding 6: {1, 2, 3, 4, 5}\n",
            "Set A after removing 6: {1, 2, 3, 4, 5}\n",
            "Set A after discarding 7: {1, 2, 3, 4, 5}\n",
            "Is 4 in Set A? True\n",
            "Is Set A a subset of Set B? False\n",
            "Is Set A a superset of Set B? False\n",
            "Set A after clear(): set()\n"
          ]
        }
      ],
      "source": [
        "# Initializing sets\n",
        "setA = {1, 2, 3, 4, 5}\n",
        "setB = {4, 5, 6, 7, 8}\n",
        "print(\"Set A:\", setA)\n",
        "print(\"Set B:\", setB)\n",
        "# Union: Combining elements from both sets (removes duplicates)\n",
        "union_set = setA.union(setB)\n",
        "print(\"Union of A and B:\", union_set)\n",
        "# Intersection: Elements common to both sets\n",
        "intersection_set = setA.intersection(setB)\n",
        "print(\"Intersection of A and B:\", intersection_set)\n",
        "# Difference: Elements in setA but not in setB\n",
        "difference_set = setA.difference(setB)\n",
        "print(\"Difference of A and B (A - B):\", difference_set)\n",
        "# Symmetric Difference: Elements in either setA or setB but not both\n",
        "symmetric_difference_set = setA.symmetric_difference(setB)\n",
        "print(\"Symmetric Difference of A and B:\", symmetric_difference_set)\n",
        "# Adding an element to a set setA.add(6)\n",
        "print(\"Set A after adding 6:\", setA)\n",
        "# Removing an element from a set setA.remove(6)\n",
        "print(\"Set A after removing 6:\", setA)\n",
        "# Discarding an element (no error if element is not present)\n",
        "setA.discard(7) # No error even if 7 is not in setA\n",
        "print(\"Set A after discarding 7:\", setA)\n",
        "# Checking membership\n",
        "is_member = 4 in setA\n",
        "print(\"Is 4 in Set A?\", is_member)\n",
        "# Checking if setA is a subset of setB\n",
        "is_subset = setA.issubset(setB)\n",
        "print(\"Is Set A a subset of Set B?\", is_subset)\n",
        "# Checking if setA is a superset of setB\n",
        "is_superset = setA.issuperset(setB)\n",
        "print(\"Is Set A a superset of Set B?\", is_superset)\n",
        "# Clearing all elements from a set\n",
        "setA.clear()\n",
        "print(\"Set A after clear():\", setA)\n",
        "\n",
        "\n"
      ]
    }
  ]
}