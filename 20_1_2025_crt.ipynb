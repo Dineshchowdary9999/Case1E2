{
  "nbformat": 4,
  "nbformat_minor": 0,
  "metadata": {
    "colab": {
      "provenance": [],
      "authorship_tag": "ABX9TyPYGMWRP08fxfa/YZzoH2af",
      "include_colab_link": true
    },
    "kernelspec": {
      "name": "python3",
      "display_name": "Python 3"
    },
    "language_info": {
      "name": "python"
    }
  },
  "cells": [
    {
      "cell_type": "markdown",
      "metadata": {
        "id": "view-in-github",
        "colab_type": "text"
      },
      "source": [
        "<a href=\"https://colab.research.google.com/github/Dineshchowdary9999/Case1E2/blob/main/20_1_2025_crt.ipynb\" target=\"_parent\"><img src=\"https://colab.research.google.com/assets/colab-badge.svg\" alt=\"Open In Colab\"/></a>"
      ]
    },
    {
      "cell_type": "code",
      "execution_count": null,
      "metadata": {
        "colab": {
          "base_uri": "https://localhost:8080/"
        },
        "id": "xKhxNuCKZGOj",
        "outputId": "535774db-cf74-4496-abf1-1cef3ebe9275"
      },
      "outputs": [
        {
          "output_type": "stream",
          "name": "stdout",
          "text": [
            "enter:26 15 3 22\n",
            "(26, 15, 3, 22)\n"
          ]
        }
      ],
      "source": [
        "tuple1=tuple(map(int,input(\"enter:\").split()))\n",
        "print(tuple1)\n"
      ]
    },
    {
      "cell_type": "code",
      "source": [
        "data=input()\n",
        "tuple1=tuple(map(int,data.split()))\n",
        "print(tuple1)"
      ],
      "metadata": {
        "colab": {
          "base_uri": "https://localhost:8080/"
        },
        "id": "VIB2550Y73mq",
        "outputId": "a66e94d9-6c4f-4d8d-945a-06e28020f5b0"
      },
      "execution_count": null,
      "outputs": [
        {
          "output_type": "stream",
          "name": "stdout",
          "text": [
            "26 15 3 22\n",
            "(26, 15, 3, 22)\n"
          ]
        }
      ]
    },
    {
      "cell_type": "code",
      "source": [
        "a=\"26 15 3 22\"\n",
        "print(tuple(a))"
      ],
      "metadata": {
        "colab": {
          "base_uri": "https://localhost:8080/"
        },
        "id": "O1KH9Jx99ytZ",
        "outputId": "d989208d-50f0-475f-d3a1-f20e157c5326"
      },
      "execution_count": 4,
      "outputs": [
        {
          "output_type": "stream",
          "name": "stdout",
          "text": [
            "('2', '6', ' ', '1', '5', ' ', '3', ' ', '2', '2')\n"
          ]
        }
      ]
    },
    {
      "cell_type": "code",
      "source": [
        " name=\"nani\"\n",
        " print(\"name:\",name)"
      ],
      "metadata": {
        "colab": {
          "base_uri": "https://localhost:8080/"
        },
        "id": "YEKh9N8v-h54",
        "outputId": "c2b6c70d-59c7-4522-d9b2-b9cc3bae0784"
      },
      "execution_count": 6,
      "outputs": [
        {
          "output_type": "stream",
          "name": "stdout",
          "text": [
            "name: nani\n"
          ]
        }
      ]
    },
    {
      "cell_type": "code",
      "source": [
        "tuple1=(26,15,3,22,\"nani\")\n",
        "tuple2=(45,93,33,\"rohit\")\n",
        "print(tuple1+tuple2)"
      ],
      "metadata": {
        "colab": {
          "base_uri": "https://localhost:8080/"
        },
        "id": "bG7rOnEZ_IiF",
        "outputId": "01b2c845-9f3e-4f2e-a98e-da0249c53aa1"
      },
      "execution_count": 7,
      "outputs": [
        {
          "output_type": "stream",
          "name": "stdout",
          "text": [
            "(26, 15, 3, 22, 'nani', 45, 93, 33, 'rohit')\n"
          ]
        }
      ]
    },
    {
      "cell_type": "code",
      "source": [
        "tuple1=(26,15,3,22,\"nani\")\n",
        "tuple2=(45,93,33,\"rohit\")\n",
        "print(\"rohit\" in tuple2)"
      ],
      "metadata": {
        "colab": {
          "base_uri": "https://localhost:8080/"
        },
        "id": "t9QmoSxX_0nW",
        "outputId": "8334aa0a-40a1-4b55-d882-d053a59938b9"
      },
      "execution_count": 10,
      "outputs": [
        {
          "output_type": "stream",
          "name": "stdout",
          "text": [
            "True\n"
          ]
        }
      ]
    },
    {
      "cell_type": "code",
      "source": [
        "tuple1=(26,15,3,22,\"nani\")\n",
        "tuple2=(45,93,33,\"rohit\")\n",
        "print(\"nani\" in tuple2)"
      ],
      "metadata": {
        "colab": {
          "base_uri": "https://localhost:8080/"
        },
        "id": "z_7ISPMgCE4b",
        "outputId": "b3cb9bff-f080-43d7-dd93-512d666786a7"
      },
      "execution_count": 11,
      "outputs": [
        {
          "output_type": "stream",
          "name": "stdout",
          "text": [
            "False\n"
          ]
        }
      ]
    },
    {
      "cell_type": "code",
      "source": [
        "tuple1=(26,15,3,22,\"nani\")\n",
        "tuple2=(45,93,33,\"rohit\")\n",
        "print(tuple1 == tuple1)"
      ],
      "metadata": {
        "colab": {
          "base_uri": "https://localhost:8080/"
        },
        "id": "FSYaLCquCLnE",
        "outputId": "36274cc5-f342-40ae-bac8-f7fb7cc298a8"
      },
      "execution_count": 12,
      "outputs": [
        {
          "output_type": "stream",
          "name": "stdout",
          "text": [
            "True\n"
          ]
        }
      ]
    },
    {
      "cell_type": "code",
      "source": [
        "tuple1=(26,15,3,22,\"nani\")\n",
        "tuple2=(45,93,33,\"rohit\")\n",
        "print(tuple1 == tuple2)"
      ],
      "metadata": {
        "colab": {
          "base_uri": "https://localhost:8080/"
        },
        "id": "uPiL0dQzCS4b",
        "outputId": "3463a586-f309-4638-a3b3-91be9c2bac11"
      },
      "execution_count": 13,
      "outputs": [
        {
          "output_type": "stream",
          "name": "stdout",
          "text": [
            "False\n"
          ]
        }
      ]
    }
  ]
}