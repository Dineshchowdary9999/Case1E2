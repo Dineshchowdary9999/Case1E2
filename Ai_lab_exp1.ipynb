{
  "nbformat": 4,
  "nbformat_minor": 0,
  "metadata": {
    "colab": {
      "provenance": [],
      "gpuType": "T4",
      "authorship_tag": "ABX9TyMq7aUeSUr5zp3aA4I1dKR1",
      "include_colab_link": true
    },
    "kernelspec": {
      "name": "python3",
      "display_name": "Python 3"
    },
    "language_info": {
      "name": "python"
    },
    "accelerator": "GPU"
  },
  "cells": [
    {
      "cell_type": "markdown",
      "metadata": {
        "id": "view-in-github",
        "colab_type": "text"
      },
      "source": [
        "<a href=\"https://colab.research.google.com/github/Dineshchowdary9999/Case1E2/blob/main/Ai_lab_exp1.ipynb\" target=\"_parent\"><img src=\"https://colab.research.google.com/assets/colab-badge.svg\" alt=\"Open In Colab\"/></a>"
      ]
    },
    {
      "cell_type": "code",
      "execution_count": null,
      "metadata": {
        "colab": {
          "base_uri": "https://localhost:8080/"
        },
        "id": "l2KphM04WCNq",
        "outputId": "9a7f8c1a-c83f-4ff2-8a68-531a79e3d295"
      },
      "outputs": [
        {
          "output_type": "stream",
          "name": "stdout",
          "text": [
            "Enter your table\n",
            "26\n",
            "Enter range of table\n",
            "10\n",
            "26 * 1 = 26\n",
            "26 * 2 = 52\n",
            "26 * 3 = 78\n",
            "26 * 4 = 104\n",
            "26 * 5 = 130\n",
            "26 * 6 = 156\n",
            "26 * 7 = 182\n",
            "26 * 8 = 208\n",
            "26 * 9 = 234\n",
            "26 * 10 = 260\n"
          ]
        }
      ],
      "source": [
        "n=int(input(\"Enter your table\\n\"))\n",
        "value=int(input(\"Enter range of table\\n\"))\n",
        "for i in range(1,value+1):\n",
        "  print(n,\"*\",i,\"=\",n*i)"
      ]
    },
    {
      "cell_type": "code",
      "source": [
        "number=int(input(\"Enter any number:\\n\"))\n",
        "if number>1:\n",
        "  for i in range(2,number):\n",
        "    if (number%i)==0:\n",
        "      print(number,\"is not a prime number\\n\")\n",
        "      break\n",
        "    else:\n",
        "      print(number,\"is a prime number\\n\")\n",
        "else:\n",
        "  print(number,\"is not a prime number\\n\")"
      ],
      "metadata": {
        "colab": {
          "base_uri": "https://localhost:8080/"
        },
        "id": "sEf-nfU1X0YZ",
        "outputId": "a7a84811-4d4d-41c7-f7ad-5ff4e2c85f21"
      },
      "execution_count": null,
      "outputs": [
        {
          "output_type": "stream",
          "name": "stdout",
          "text": [
            "Enter any number:\n",
            "3\n",
            "3 is a prime number\n",
            "\n"
          ]
        }
      ]
    },
    {
      "cell_type": "code",
      "source": [
        "num=int(input(\"Enter a number\\n\"))\n",
        "fact=1\n",
        "if num<0:\n",
        "    print(\"Factorial doesnt exist for -ve numbers\")\n",
        "elif num==0:\n",
        "    print(\"Factorial of 0 is 1\")\n",
        "else:\n",
        "    for i in range(1,num+1):\n",
        "        fact=fact*i\n",
        "        print(\"Factorial of\",num,\"is\",fact)"
      ],
      "metadata": {
        "colab": {
          "base_uri": "https://localhost:8080/"
        },
        "id": "Xibnh2fUZ9d-",
        "outputId": "918c7dc6-1ec2-4cd9-a1f2-149d0a71fa08"
      },
      "execution_count": null,
      "outputs": [
        {
          "output_type": "stream",
          "name": "stdout",
          "text": [
            "Enter a number\n",
            "26\n",
            "Factorial of 26 is 1\n",
            "Factorial of 26 is 2\n",
            "Factorial of 26 is 6\n",
            "Factorial of 26 is 24\n",
            "Factorial of 26 is 120\n",
            "Factorial of 26 is 720\n",
            "Factorial of 26 is 5040\n",
            "Factorial of 26 is 40320\n",
            "Factorial of 26 is 362880\n",
            "Factorial of 26 is 3628800\n",
            "Factorial of 26 is 39916800\n",
            "Factorial of 26 is 479001600\n",
            "Factorial of 26 is 6227020800\n",
            "Factorial of 26 is 87178291200\n",
            "Factorial of 26 is 1307674368000\n",
            "Factorial of 26 is 20922789888000\n",
            "Factorial of 26 is 355687428096000\n",
            "Factorial of 26 is 6402373705728000\n",
            "Factorial of 26 is 121645100408832000\n",
            "Factorial of 26 is 2432902008176640000\n",
            "Factorial of 26 is 51090942171709440000\n",
            "Factorial of 26 is 1124000727777607680000\n",
            "Factorial of 26 is 25852016738884976640000\n",
            "Factorial of 26 is 620448401733239439360000\n",
            "Factorial of 26 is 15511210043330985984000000\n",
            "Factorial of 26 is 403291461126605635584000000\n"
          ]
        }
      ]
    }
  ]
}